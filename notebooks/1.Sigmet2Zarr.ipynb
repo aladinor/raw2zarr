{
 "cells": [
  {
   "cell_type": "markdown",
   "id": "28877fca-3759-4d87-85da-ecb50dc3f11f",
   "metadata": {},
   "source": [
    "# Convert Sigmet files into Zarr"
   ]
  },
  {
   "cell_type": "markdown",
   "id": "13d0ab8a-fc89-4376-b9d0-dfc0c185b6ba",
   "metadata": {},
   "source": [
    "## Imports"
   ]
  },
  {
   "cell_type": "code",
   "execution_count": null,
   "id": "012e2882-0418-4505-bd32-1442e518415d",
   "metadata": {},
   "outputs": [],
   "source": [
    "import xradar as xd\n",
    "import fsspec\n",
    "import datatree\n",
    "import pyproj\n",
    "from datetime import datetime\n",
    "from wradlib.georef import epsg_to_osr, georeference\n",
    "from cartopy import crs as ccrs\n",
    "from sigmet2zarr.utils import create_query, check_if_exist, make_dir\n",
    "from sigmet2zarr.task2zarr import raw2zarr"
   ]
  },
  {
   "cell_type": "markdown",
   "id": "09f4d05d-ed27-4778-a30f-72b1fd74f2f8",
   "metadata": {},
   "source": [
    "Now let's convert some sigmet files hosted in [IDEAM](https://registry.opendata.aws/ideam-radares/) AWS bucket."
   ]
  },
  {
   "cell_type": "code",
   "execution_count": null,
   "id": "f4f62e95-7611-4d54-a0ec-68ed4bae5c9d",
   "metadata": {},
   "outputs": [],
   "source": [
    "# radar\n",
    "radar_name = \"Carimagua\"\n",
    "zarr_version = 2\n",
    "\n",
    "# Store path to save radar datatree in Zarr format\n",
    "zarr_store = f'../zarr/{radar_name}.zarr'\n",
    "make_dir(zarr_store)\n",
    "\n",
    "# Lest define some dates to convert\n",
    "year, months, days = 2022, range(8, 9), range(9, 10)\n",
    "\n",
    "# data needs to be converted sequentially since zarr is using consolidated metadata\n",
    "for month in months:                                                                                                                                                                                                                                                                                                              \n",
    "    for day in days:\n",
    "        # datetime object\n",
    "        date_query = datetime(year=year, month=month, day=day)\n",
    "        \n",
    "        # Create AWS bucket string query\n",
    "        query = create_query(date=date_query, radar_site=radar_name)\n",
    "        str_bucket = 's3://s3-radaresideam/'\n",
    "\n",
    "        # Using Fsspec to create a virtual connection with the S3 Bucket\n",
    "        fs = fsspec.filesystem(\"s3\", anon=True)\n",
    "\n",
    "        # Glob the files within the bucket\n",
    "        radar_files = sorted(fs.glob(f\"{str_bucket}{query}*\"))\n",
    "\n",
    "        # loop through each file that will be converted and saved in zarr format\n",
    "        if radar_files:\n",
    "            for i in radar_files[:100]: # looping over the first 100 files. You can just replace by radar_files.\n",
    "                raw2zarr(i, store=zarr_store, mode='a', consolidated=True, \n",
    "                         append_dim='vcp_time', zarr_version=zarr_version,)"
   ]
  },
  {
   "cell_type": "markdown",
   "id": "f81dfc56-a165-4439-8621-021489613594",
   "metadata": {},
   "source": [
    "## Read the radar datatree store in Zarr format"
   ]
  },
  {
   "cell_type": "code",
   "execution_count": null,
   "id": "2d68952c-311d-44dc-99d4-d7c0d3246848",
   "metadata": {},
   "outputs": [],
   "source": [
    "dt_radar = datatree.open_datatree(zarr_store, engine='zarr')"
   ]
  },
  {
   "cell_type": "code",
   "execution_count": null,
   "id": "23b201cc-33da-482c-87ad-ff3b8831c67a",
   "metadata": {
    "scrolled": true
   },
   "outputs": [],
   "source": [
    "list(dt_radar.children)"
   ]
  },
  {
   "cell_type": "markdown",
   "id": "1b086894-0a94-41f7-ac51-be756a973faf",
   "metadata": {},
   "source": [
    "We can now access each sweep by using a key-value method. Let's check the lowest elevation angle"
   ]
  },
  {
   "cell_type": "code",
   "execution_count": null,
   "id": "87eb2dc6-e26f-4944-85ee-9270ab4f0f4f",
   "metadata": {},
   "outputs": [],
   "source": [
    "ds_05 = dt_radar['sweep_0'].ds\n",
    "display(ds_05)"
   ]
  },
  {
   "cell_type": "markdown",
   "id": "a7664d2d-6775-4945-a2b9-287aea6952ad",
   "metadata": {},
   "source": [
    "Xarray `Dataset` has `azimuth`, `range` and **`vcp_time`** cordiates. Which means that now we have multiple sweeps concatenated along this dimention allowing us to have a radar `timeseries`. We can create look at the horizontal radar reflectivity and create a plot using xarray plot built-in function"
   ]
  },
  {
   "cell_type": "code",
   "execution_count": null,
   "id": "358ef249-c259-42d4-81c8-5a5888e5d42e",
   "metadata": {
    "scrolled": true
   },
   "outputs": [],
   "source": [
    "ds_05.isel(vcp_time=0).DBZH.plot(cmap='ChaseSpectral', vmin=-10, vmax=50)"
   ]
  },
  {
   "cell_type": "markdown",
   "id": "61715a81-792b-4082-9014-8f4f32cb35d8",
   "metadata": {},
   "source": [
    "Before creating a radar plot we need to georeference the dataset. This can be done using `xradar.georeference` module"
   ]
  },
  {
   "cell_type": "code",
   "execution_count": null,
   "id": "c3528125-6d9f-467e-9ab1-bcdcbf996209",
   "metadata": {
    "scrolled": true
   },
   "outputs": [],
   "source": [
    "ds_05 = xd.georeference.get_x_y_z(ds_05)\n",
    "display(ds_05)"
   ]
  },
  {
   "cell_type": "markdown",
   "id": "b704769d-9a73-4fc3-afad-ab094b1b3cd0",
   "metadata": {},
   "source": [
    "Now we can create a radial plot"
   ]
  },
  {
   "cell_type": "code",
   "execution_count": null,
   "id": "251c4e0a-e2e0-4d41-ae63-4d1223899a49",
   "metadata": {},
   "outputs": [],
   "source": [
    "ds_05.isel(vcp_time=0).DBZH.plot(x=\"x\", y=\"y\", cmap=\"ChaseSpectral\", vmin=-10, vmax=50)"
   ]
  },
  {
   "cell_type": "code",
   "execution_count": null,
   "id": "050dedd0-7140-413f-8ec1-1124c3a591e0",
   "metadata": {},
   "outputs": [],
   "source": []
  }
 ],
 "metadata": {
  "kernelspec": {
   "display_name": "Python 3 (ipykernel)",
   "language": "python",
   "name": "python3"
  },
  "language_info": {
   "codemirror_mode": {
    "name": "ipython",
    "version": 3
   },
   "file_extension": ".py",
   "mimetype": "text/x-python",
   "name": "python",
   "nbconvert_exporter": "python",
   "pygments_lexer": "ipython3",
   "version": "3.11.6"
  }
 },
 "nbformat": 4,
 "nbformat_minor": 5
}
