{
 "cells": [
  {
   "cell_type": "code",
   "execution_count": 1,
   "id": "4e3600ca-e780-440d-957d-7f393a92f04e",
   "metadata": {
    "tags": []
   },
   "outputs": [],
   "source": [
    "import fsspec\n",
    "import xradar\n",
    "import xarray\n",
    "from datatree import open_datatree"
   ]
  },
  {
   "cell_type": "code",
   "execution_count": 2,
   "id": "743caa54-c635-4f96-b071-cf7d9d8bcf6f",
   "metadata": {
    "tags": []
   },
   "outputs": [
    {
     "ename": "NameError",
     "evalue": "name 'datetime' is not defined",
     "output_type": "error",
     "traceback": [
      "\u001b[1;31m---------------------------------------------------------------------------\u001b[0m",
      "\u001b[1;31mNameError\u001b[0m                                 Traceback (most recent call last)",
      "Cell \u001b[1;32mIn[2], line 1\u001b[0m\n\u001b[1;32m----> 1\u001b[0m date_query \u001b[38;5;241m=\u001b[39m \u001b[43mdatetime\u001b[49m(\u001b[38;5;241m2023\u001b[39m, \u001b[38;5;241m4\u001b[39m, \u001b[38;5;241m7\u001b[39m)\n\u001b[0;32m      2\u001b[0m radar_name \u001b[38;5;241m=\u001b[39m \u001b[38;5;124m\"\u001b[39m\u001b[38;5;124mBarrancabermeja\u001b[39m\u001b[38;5;124m\"\u001b[39m \n\u001b[0;32m      3\u001b[0m query \u001b[38;5;241m=\u001b[39m create_query(date\u001b[38;5;241m=\u001b[39mdate_query, radar_site\u001b[38;5;241m=\u001b[39mradar_name)\n",
      "\u001b[1;31mNameError\u001b[0m: name 'datetime' is not defined"
     ]
    }
   ],
   "source": [
    "date_query = datetime(2023, 4, 7)\n",
    "radar_name = \"Barrancabermeja\" \n",
    "query = create_query(date=date_query, radar_site=radar_name)\n",
    "str_bucket = 's3://s3-radaresideam/'\n",
    "fs = fsspec.filesystem(\"s3\", anon=True)\n",
    "radar_files = sorted(fs.glob(f\"{str_bucket}{query}*\"))\n",
    "len(radar_files)"
   ]
  },
  {
   "cell_type": "code",
   "execution_count": null,
   "id": "ce09bc22-6393-4222-933f-cced1f1a8377",
   "metadata": {},
   "outputs": [],
   "source": [
    "fs = s3fs.S3FileSystem(anon=True,client_kwargs=dict(endpoint_url=\"https://js2.jetstream-cloud.org:8001/\"))\n",
    "fs.ls(\"pythia/multiple_vcp_test/\")"
   ]
  }
 ],
 "metadata": {
  "kernelspec": {
   "display_name": "Python 3 (ipykernel)",
   "language": "python",
   "name": "python3"
  },
  "language_info": {
   "codemirror_mode": {
    "name": "ipython",
    "version": 3
   },
   "file_extension": ".py",
   "mimetype": "text/x-python",
   "name": "python",
   "nbconvert_exporter": "python",
   "pygments_lexer": "ipython3",
   "version": "3.9.16"
  }
 },
 "nbformat": 4,
 "nbformat_minor": 5
}
