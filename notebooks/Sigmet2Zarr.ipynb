{
 "cells": [
  {
   "cell_type": "markdown",
   "id": "28877fca-3759-4d87-85da-ecb50dc3f11f",
   "metadata": {},
   "source": [
    "# Convert Sigmet files into Zarr"
   ]
  },
  {
   "cell_type": "markdown",
   "id": "13d0ab8a-fc89-4376-b9d0-dfc0c185b6ba",
   "metadata": {},
   "source": [
    "## Imports"
   ]
  },
  {
   "cell_type": "code",
   "execution_count": 3,
   "id": "012e2882-0418-4505-bd32-1442e518415d",
   "metadata": {},
   "outputs": [],
   "source": [
    "import xradar as xd\n",
    "import fsspec\n",
    "from sr"
   ]
  },
  {
   "cell_type": "code",
   "execution_count": null,
   "id": "f4f62e95-7611-4d54-a0ec-68ed4bae5c9d",
   "metadata": {},
   "outputs": [],
   "source": [
    "\n"
   ]
  },
  {
   "cell_type": "code",
   "execution_count": null,
   "id": "9253f39f-c377-478f-a2c6-1df5b4cab910",
   "metadata": {},
   "outputs": [],
   "source": []
  },
  {
   "cell_type": "code",
   "execution_count": null,
   "id": "d430b432-563f-408d-b190-9c7237be67a3",
   "metadata": {},
   "outputs": [],
   "source": []
  },
  {
   "cell_type": "code",
   "execution_count": null,
   "id": "23b201cc-33da-482c-87ad-ff3b8831c67a",
   "metadata": {},
   "outputs": [],
   "source": []
  },
  {
   "cell_type": "code",
   "execution_count": null,
   "id": "87eb2dc6-e26f-4944-85ee-9270ab4f0f4f",
   "metadata": {},
   "outputs": [],
   "source": []
  },
  {
   "cell_type": "code",
   "execution_count": null,
   "id": "14e4eccb-40a7-467b-afb7-147fb02e00e5",
   "metadata": {},
   "outputs": [],
   "source": []
  }
 ],
 "metadata": {
  "kernelspec": {
   "display_name": "Python 3 (ipykernel)",
   "language": "python",
   "name": "python3"
  },
  "language_info": {
   "codemirror_mode": {
    "name": "ipython",
    "version": 3
   },
   "file_extension": ".py",
   "mimetype": "text/x-python",
   "name": "python",
   "nbconvert_exporter": "python",
   "pygments_lexer": "ipython3",
   "version": "3.11.6"
  }
 },
 "nbformat": 4,
 "nbformat_minor": 5
}
